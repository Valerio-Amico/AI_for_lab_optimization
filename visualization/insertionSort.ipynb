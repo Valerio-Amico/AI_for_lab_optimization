{
 "cells": [
  {
   "cell_type": "code",
   "execution_count": 1,
   "metadata": {},
   "outputs": [],
   "source": [
    "import numpy as np"
   ]
  },
  {
   "cell_type": "code",
   "execution_count": null,
   "metadata": {},
   "outputs": [],
   "source": [
    "a = [5,2,4,10,7]\n",
    "b = []\n",
    "\n",
    "b.append(a[0])\n",
    "\n",
    "if a[1] > b[0] : \n",
    "    b = [b[0] , a[1]]\n",
    "else : \n",
    "    b = [a[1], b[0]]\n",
    "\n",
    "if a[2] > b[1] :\n",
    "    b = [b[0] , b[1] , a[2]] \n",
    "else :\n",
    "    if a[2] > b[0] : \n",
    "        b = [b[0] , a[2] , b[1]] \n",
    "    else :\n",
    "        b = [a[2] , b[0] , b[1]]\n"
   ]
  },
  {
   "cell_type": "code",
   "execution_count": 46,
   "metadata": {},
   "outputs": [
    {
     "data": {
      "text/plain": [
       "[0, 2, 2, 2, 3, 3, 3, 4, 4, 5, 6, 7, 10, 456]"
      ]
     },
     "execution_count": 46,
     "metadata": {},
     "output_type": "execute_result"
    }
   ],
   "source": [
    "a = [5,2,4,10,7,3,4,6,2,0,456,3,2,3]\n",
    "b = []\n",
    "\n",
    "b.append(a[0])\n",
    "for n in a[1:] :\n",
    "    if n < b[0]:\n",
    "        b = [n] + b\n",
    "    else:\n",
    "        for j in range(0, len(b)-1): \n",
    "            if b[j] <= n <= b[j+1]: \n",
    "                b = b[0:j+1] + [n] + b[j+1:]\n",
    "                break\n",
    "            if j == len(b)-2:\n",
    "                b.append(n)\n",
    "\n",
    "b\n"
   ]
  },
  {
   "cell_type": "code",
   "execution_count": null,
   "metadata": {},
   "outputs": [],
   "source": []
  }
 ],
 "metadata": {
  "kernelspec": {
   "display_name": "Python 3",
   "language": "python",
   "name": "python3"
  },
  "language_info": {
   "codemirror_mode": {
    "name": "ipython",
    "version": 3
   },
   "file_extension": ".py",
   "mimetype": "text/x-python",
   "name": "python",
   "nbconvert_exporter": "python",
   "pygments_lexer": "ipython3",
   "version": "3.10.2"
  }
 },
 "nbformat": 4,
 "nbformat_minor": 2
}
